{
 "cells": [
  {
   "cell_type": "markdown",
   "metadata": {},
   "source": [
    "Comparar KMeans \"puro\" com KMeans com Improved Density Canopy\n",
    "\n",
    "Métricas erro Quadrático médio\n",
    "\n",
    "Quando bancos de dados UCI usar?\n",
    "\n",
    "1. Calcular MeanDis de cada elemento\n",
    "2. Calcular densidade de cada elemento\n",
    "3. O com maior densidade é o centro e eliminar os que não estão dentro do raio."
   ]
  },
  {
   "cell_type": "code",
   "execution_count": 1,
   "metadata": {},
   "outputs": [],
   "source": [
    "import pandas as pd\n",
    "import numpy as np\n",
    "from time import time\n",
    "\n",
    "from IPython.display import display\n",
    "\n",
    "from sklearn.cluster import KMeans"
   ]
  },
  {
   "cell_type": "code",
   "execution_count": 2,
   "metadata": {},
   "outputs": [],
   "source": [
    "def euclideanDistance(vector1, vector2):\n",
    "        #print(vector1)\n",
    "        #print(vector2)\n",
    "        return np.sqrt(np.sum(np.power(vector1-vector2, 2)))\n",
    "\n",
    "def getDistance(row_center, row_sample):\n",
    "        #print(row_center)\n",
    "        row_center = np.asarray(row_center)\n",
    "        #row_center = np.asarray(row_sample)\n",
    "        return euclideanDistance(row_center, row_sample)\n"
   ]
  },
  {
   "cell_type": "code",
   "execution_count": 3,
   "metadata": {},
   "outputs": [],
   "source": [
    "files = [\"datasets/soybean-small.data\", \"datasets/wine.data\"]\n",
    "ks = [4,13]\n",
    "kmeansTypes = [\"random\", \"k-means++\"]"
   ]
  },
  {
   "cell_type": "code",
   "execution_count": 4,
   "metadata": {
    "scrolled": true
   },
   "outputs": [
    {
     "name": "stdout",
     "output_type": "stream",
     "text": [
      "--------- random test ---------\n",
      "(47, 36)\n",
      "Erro quadrático médio:  100.72984563120583\n",
      "[0.03965282440185547]\n",
      "(178, 14)\n",
      "Erro quadrático médio:  707.3637730622032\n",
      "[0.05330681800842285]\n",
      "--------- k-means++ test ---------\n",
      "(47, 36)\n",
      "Erro quadrático médio:  96.99203638192614\n",
      "[0.00933074951171875]\n",
      "(178, 14)\n",
      "Erro quadrático médio:  674.4328770176052\n",
      "[0.04040861129760742]\n"
     ]
    }
   ],
   "source": [
    "\n",
    "for kmeansType in kmeansTypes:\n",
    "    print (\"--------- \"+ kmeansType +\" test ---------\")\n",
    "    \n",
    "    for index, file in enumerate(files):\n",
    "        data = pd.read_csv(file, header=None)\n",
    "        print (data.shape)\n",
    "        target = data.iloc[:,-1]\n",
    "        data = data.iloc[:,:-1]\n",
    "        #display(data.head())\n",
    "    \n",
    "        clustering_times = []\n",
    "        start = time()\n",
    "        k = ks[index]\n",
    "        kmeans = KMeans(n_clusters=k, random_state=100, init=kmeansType, n_init=1, max_iter=100).fit(data)\n",
    "    \n",
    "        distances = []\n",
    "        for i in range(k): # Qtd de clusters\n",
    "            distance = 0\n",
    "            for index_labels, value_labels in enumerate(kmeans.labels_): #kmeans.labels_ possui a que cluster cada elemento pertence\n",
    "                if (i == value_labels):\n",
    "                    #print(value_labels)\n",
    "                    distance = distance + getDistance(kmeans.cluster_centers_[value_labels], data.loc[index_labels].values)\n",
    "        \n",
    "            distances.append(distance) #Erro quadratico medio de cada cluster\n",
    "    \n",
    "        distances = np.asarray(distances)\n",
    "        error = np.sum(distances)\n",
    "        #print(kmeans.labels_)\n",
    "        end = time()\n",
    "        print(\"Erro quadrático médio: \",error)\n",
    "        clustering_times.append(end - start)\n",
    "        print(clustering_times)\n",
    "        #print(kmeans.cluster_centers_)"
   ]
  },
  {
   "cell_type": "code",
   "execution_count": 5,
   "metadata": {},
   "outputs": [],
   "source": [
    "\n",
    "#kmeans.cluster_centers_"
   ]
  },
  {
   "cell_type": "code",
   "execution_count": null,
   "metadata": {},
   "outputs": [],
   "source": []
  }
 ],
 "metadata": {
  "kernelspec": {
   "display_name": "Python 3",
   "language": "python",
   "name": "python3"
  },
  "language_info": {
   "codemirror_mode": {
    "name": "ipython",
    "version": 3
   },
   "file_extension": ".py",
   "mimetype": "text/x-python",
   "name": "python",
   "nbconvert_exporter": "python",
   "pygments_lexer": "ipython3",
   "version": "3.6.8"
  }
 },
 "nbformat": 4,
 "nbformat_minor": 2
}
